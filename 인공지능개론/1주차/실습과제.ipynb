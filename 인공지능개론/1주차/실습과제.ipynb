{
 "cells": [
  {
   "cell_type": "code",
   "execution_count": 16,
   "id": "92b3bfef-0777-49dc-8aaf-74eedfb9ba17",
   "metadata": {},
   "outputs": [
    {
     "name": "stdout",
     "output_type": "stream",
     "text": [
      "DT score: 0.9473684210526315\n",
      "RF score: 0.9210526315789473\n",
      "SVM score: 0.9210526315789473\n",
      "LR score: 0.9210526315789473\n"
     ]
    }
   ],
   "source": [
    "import pandas as pd\n",
    "import numpy as np\n",
    "\n",
    "\n",
    "df=pd.read_csv(\"C:/Users/김찬희/인공지능개론/iris.csv\")\n",
    "df=df.to_numpy()\n",
    "\n",
    "x=df[:,:-1]\n",
    "y=df[:,-1]\n",
    "\n",
    "from sklearn.model_selection import train_test_split\n",
    "x_train,x_test,y_train,y_test=train_test_split(x,y)\n",
    "\n",
    "from sklearn.tree import DecisionTreeClassifier\n",
    "DT=DecisionTreeClassifier()\n",
    "DT.fit(x_train,y_train)\n",
    "print('DT score:',DT.score(x_test,y_test))\n",
    "\n",
    "from sklearn.ensemble import RandomForestClassifier\n",
    "\n",
    "RF=RandomForestClassifier()\n",
    "RF.fit(x_train,y_train)\n",
    "print('RF score:',RF.score(x_test,y_test))\n",
    "\n",
    "from sklearn.svm import SVC\n",
    "\n",
    "SVM=RandomForestClassifier()\n",
    "SVM.fit(x_train,y_train)\n",
    "print('SVM score:',SVM.score(x_test,y_test))\n",
    "\n",
    "from sklearn.linear_model import LogisticRegression\n",
    "\n",
    "LR=RandomForestClassifier()\n",
    "LR.fit(x_train,y_train)\n",
    "print('LR score:',LR.score(x_test,y_test))\n"
   ]
  },
  {
   "cell_type": "code",
   "execution_count": null,
   "id": "84ff03bf-edc9-4849-b07a-4c5abd6f8a22",
   "metadata": {},
   "outputs": [],
   "source": []
  }
 ],
 "metadata": {
  "kernelspec": {
   "display_name": "Python 3 (ipykernel)",
   "language": "python",
   "name": "python3"
  },
  "language_info": {
   "codemirror_mode": {
    "name": "ipython",
    "version": 3
   },
   "file_extension": ".py",
   "mimetype": "text/x-python",
   "name": "python",
   "nbconvert_exporter": "python",
   "pygments_lexer": "ipython3",
   "version": "3.12.7"
  }
 },
 "nbformat": 4,
 "nbformat_minor": 5
}
