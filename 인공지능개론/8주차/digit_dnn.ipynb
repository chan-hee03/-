{
 "cells": [
  {
   "cell_type": "code",
   "execution_count": 1,
   "id": "9f2ec013-1ce6-4da4-862f-55917330b620",
   "metadata": {},
   "outputs": [
    {
     "data": {
      "text/plain": [
       "(1797, 64)"
      ]
     },
     "execution_count": 1,
     "metadata": {},
     "output_type": "execute_result"
    }
   ],
   "source": [
    "# 데이터 불러오기, reshape\n",
    "from sklearn import datasets, metrics\n",
    "\n",
    "digits=datasets.load_digits()\n",
    "\n",
    "df=digits.images.reshape((len(digits.images),-1))\n",
    "df.shape"
   ]
  },
  {
   "cell_type": "code",
   "execution_count": 2,
   "id": "cf09e057-a184-4644-9061-c760b4c0a669",
   "metadata": {},
   "outputs": [
    {
     "data": {
      "text/plain": [
       "((1347, 64), (450, 64), (1347,), (450,))"
      ]
     },
     "execution_count": 2,
     "metadata": {},
     "output_type": "execute_result"
    }
   ],
   "source": [
    "from sklearn.model_selection import train_test_split\n",
    "x_train,x_test,y_train,y_test=train_test_split(df, digits.target)\n",
    "\n",
    "x_train.shape, x_test.shape, y_train.shape, y_test.shape"
   ]
  },
  {
   "cell_type": "code",
   "execution_count": 3,
   "id": "30d06590-0729-48b5-8730-4bf742f11ba4",
   "metadata": {},
   "outputs": [
    {
     "data": {
      "text/plain": [
       "(torch.Size([1347, 64]),\n",
       " torch.Size([1347]),\n",
       " torch.Size([450, 64]),\n",
       " torch.Size([450]))"
      ]
     },
     "execution_count": 3,
     "metadata": {},
     "output_type": "execute_result"
    }
   ],
   "source": [
    "# df -> tensor , train-test set 합치기\n",
    "import torch\n",
    "\n",
    "x_train=torch.tensor(x_train, dtype=torch.float32)\n",
    "x_test=torch.tensor(x_test, dtype=torch.float32)\n",
    "y_train=torch.tensor(y_train, dtype=torch.long)\n",
    "y_test=torch.tensor(y_test, dtype=torch.long)\n",
    "\n",
    "\n",
    "from torch.utils.data import Dataset, DataLoader, TensorDataset\n",
    "\n",
    "dataset_train = TensorDataset(x_train,y_train)\n",
    "dataloader_train = DataLoader(dataset_train, batch_size=32, shuffle=True)\n",
    "\n",
    "dataset_test = TensorDataset(x_test,y_test)\n",
    "dataloader_test = DataLoader(dataset_test, batch_size=32, shuffle=False)\n",
    "\n",
    "x_train.shape, y_train.shape, x_test.shape, y_test.shape"
   ]
  },
  {
   "cell_type": "code",
   "execution_count": 4,
   "id": "d1cc9a25-9992-4fa4-b0ce-ba65477042a0",
   "metadata": {},
   "outputs": [],
   "source": [
    "#모델 정의\n",
    "import torch.nn as nn\n",
    "import torch.optim as optim\n",
    "\n",
    "\n",
    "class digits_model(nn.Module):\n",
    "    def __init__(self):\n",
    "        super(digits_model, self).__init__()\n",
    "        self.fc1 = nn.Linear(64, 16)\n",
    "        self.fc2 = nn.Linear(16, 16)\n",
    "        self.fc3 = nn.Linear(16, 10)\n",
    "    \n",
    "    def forward(self, x):\n",
    "        x = torch.relu(self.fc1(x))\n",
    "        x = torch.relu(self.fc2(x))\n",
    "        x = self.fc3(x)\n",
    "        return x\n",
    "\n",
    "model = digits_model()\n",
    "criterion = nn.CrossEntropyLoss()\n",
    "optimizer = optim.Adam(model.parameters(), lr=0.001)"
   ]
  },
  {
   "cell_type": "code",
   "execution_count": 5,
   "id": "d29e8449-98cc-496d-b9d1-4ab76057744c",
   "metadata": {},
   "outputs": [
    {
     "name": "stdout",
     "output_type": "stream",
     "text": [
      "Epoch 1/25, Loss: 2.0028, Accuracy: 41.11%\n",
      "Epoch 2/25, Loss: 1.4086, Accuracy: 59.56%\n",
      "Epoch 3/25, Loss: 0.8543, Accuracy: 82.22%\n",
      "Epoch 4/25, Loss: 0.4858, Accuracy: 91.11%\n",
      "Epoch 5/25, Loss: 0.3383, Accuracy: 92.00%\n",
      "Epoch 6/25, Loss: 0.2642, Accuracy: 92.00%\n",
      "Epoch 7/25, Loss: 0.2250, Accuracy: 93.11%\n",
      "Epoch 8/25, Loss: 0.2044, Accuracy: 94.00%\n",
      "Epoch 9/25, Loss: 0.1734, Accuracy: 93.11%\n",
      "Epoch 10/25, Loss: 0.1516, Accuracy: 95.11%\n",
      "Epoch 11/25, Loss: 0.1623, Accuracy: 94.44%\n",
      "Epoch 12/25, Loss: 0.1441, Accuracy: 95.11%\n",
      "Epoch 13/25, Loss: 0.1254, Accuracy: 96.22%\n",
      "Epoch 14/25, Loss: 0.1290, Accuracy: 95.33%\n",
      "Epoch 15/25, Loss: 0.1064, Accuracy: 95.33%\n",
      "Epoch 16/25, Loss: 0.1046, Accuracy: 96.44%\n",
      "Epoch 17/25, Loss: 0.0991, Accuracy: 95.56%\n",
      "Epoch 18/25, Loss: 0.0853, Accuracy: 95.33%\n",
      "Epoch 19/25, Loss: 0.1105, Accuracy: 95.78%\n",
      "Epoch 20/25, Loss: 0.1028, Accuracy: 95.78%\n",
      "Epoch 21/25, Loss: 0.0734, Accuracy: 96.00%\n",
      "Epoch 22/25, Loss: 0.0717, Accuracy: 96.67%\n",
      "Epoch 23/25, Loss: 0.0686, Accuracy: 96.89%\n",
      "Epoch 24/25, Loss: 0.0664, Accuracy: 96.44%\n",
      "Epoch 25/25, Loss: 0.0681, Accuracy: 97.33%\n",
      "Training complete.\n"
     ]
    }
   ],
   "source": [
    "# loss, accuracy 기록\n",
    "train_losses = []\n",
    "test_accuracies = []\n",
    "\n",
    "# 반복학습\n",
    "num_epochs = 25\n",
    "for epoch in range(num_epochs):\n",
    "    model.train()\n",
    "    running_loss = 0.0\n",
    "    for inputs, labels in dataloader_train:\n",
    "        # 기울기 초기화\n",
    "        optimizer.zero_grad()\n",
    "\n",
    "        # loss 확인\n",
    "        outputs = model(inputs)\n",
    "        loss = criterion(outputs, labels)\n",
    "\n",
    "        # 역전파, 가중치 업데트\n",
    "        loss.backward()\n",
    "        optimizer.step()\n",
    "\n",
    "        running_loss += loss.item()\n",
    "    \n",
    "    # 평균 로스 기록\n",
    "    train_losses.append(running_loss / len(dataloader_train))\n",
    "\n",
    "    \n",
    "    # 평가상태 변환    \n",
    "    model.eval()\n",
    "    correct = 0\n",
    "    total = 0\n",
    "    with torch.no_grad():\n",
    "        for inputs, labels in dataloader_test:\n",
    "            outputs = model(inputs)\n",
    "            _, predicted = torch.max(outputs, 1)\n",
    "\n",
    "            total += labels.size(0)\n",
    "            correct += (predicted == labels).sum().item()\n",
    "\n",
    "    accuracy = 100 * correct / total\n",
    "    test_accuracies.append(accuracy)\n",
    "\n",
    "    print(f\"Epoch {epoch + 1}/{num_epochs}, Loss: {train_losses[-1]:.4f}, Accuracy: {accuracy:.2f}%\")\n",
    "\n",
    "print(\"Training complete.\")"
   ]
  },
  {
   "cell_type": "code",
   "execution_count": 7,
   "id": "eced4549-0048-401b-a737-5936aa53ea99",
   "metadata": {},
   "outputs": [
    {
     "name": "stdout",
     "output_type": "stream",
     "text": [
      "Confusion Matrix:\n",
      "[[42  0  0  0  0  0  1  0  0  0]\n",
      " [ 0 49  0  0  0  0  1  0  0  0]\n",
      " [ 0  0 44  0  0  0  0  0  0  0]\n",
      " [ 0  0  0 37  0  0  0  0  1  1]\n",
      " [ 1  0  0  0 38  0  0  1  0  0]\n",
      " [ 0  0  0  0  0 53  0  0  0  0]\n",
      " [ 0  0  0  0  0  1 48  0  0  0]\n",
      " [ 0  0  0  0  0  0  0 52  1  0]\n",
      " [ 0  2  0  0  0  0  1  0 41  0]\n",
      " [ 0  0  0  0  0  1  0  0  0 34]]\n",
      "F1 Score: 0.97\n",
      "Precision: 0.97\n",
      "Recall: 0.97\n",
      "Specificity: 1.00\n"
     ]
    }
   ],
   "source": [
    "# 모델 평가\n",
    "from sklearn.metrics import precision_score, recall_score, f1_score, roc_auc_score, confusion_matrix, ConfusionMatrixDisplay\n",
    "import numpy as np\n",
    "\n",
    "# 실제 라벨, 예측값 기록\n",
    "all_labels = []\n",
    "all_predictions = []\n",
    "\n",
    "model.eval()\n",
    "\n",
    "with torch.no_grad():\n",
    "    for inputs, labels in dataloader_test:\n",
    "        outputs = model(inputs)\n",
    "        _, predicted = torch.max(outputs.data, 1) # 가장 확률 높은 열번호 \n",
    "        all_labels.extend(labels.cpu().numpy())\n",
    "        all_predictions.extend(predicted.cpu().numpy())\n",
    "\n",
    "# list->numpy\n",
    "all_labels = np.array(all_labels)\n",
    "all_predictions = np.array(all_predictions)\n",
    "\n",
    "#matrix, f1, precision, recall 확인\n",
    "conf_matrix = confusion_matrix(all_labels, all_predictions)\n",
    "f1 = f1_score(all_labels, all_predictions, average='weighted')\n",
    "precision = precision_score(all_labels, all_predictions, average='weighted')\n",
    "recall = recall_score(all_labels, all_predictions, average='weighted')\n",
    "\n",
    "# 각 specificity 확인\n",
    "specificity = []\n",
    "for i in range(conf_matrix.shape[0]):\n",
    "    tn = conf_matrix.sum() - (conf_matrix[i, :].sum() + conf_matrix[:, i].sum() - conf_matrix[i, i])\n",
    "    fp = conf_matrix[:, i].sum() - conf_matrix[i, i]  # False Positive\n",
    "    specificity.append(tn / (tn + fp))  # Specificity = TN / (TN + FP)\n",
    "\n",
    "print(f'Confusion Matrix:\\n{conf_matrix}')\n",
    "print(f'F1 Score: {f1:.2f}')\n",
    "print(f'Precision: {precision:.2f}')\n",
    "print(f'Recall: {recall:.2f}')\n",
    "print(f'Specificity: {np.mean(specificity):.2f}')"
   ]
  },
  {
   "cell_type": "code",
   "execution_count": 10,
   "id": "37e0cc0e-d94d-4333-9c0b-5d18c1a60977",
   "metadata": {},
   "outputs": [
    {
     "data": {
      "image/png": "[encoded data removed]",
      "text/plain": [
       "<Figure size 1200x500 with 2 Axes>"
      ]
     },
     "metadata": {},
     "output_type": "display_data"
    }
   ],
   "source": [
    "# loss와 accuracy 변화 확인\n",
    "import matplotlib.pyplot as plt\n",
    "\n",
    "plt.figure(figsize=(12, 5))\n",
    "\n",
    "plt.subplot(1, 2, 1)\n",
    "plt.plot(train_losses, label='Training Loss')\n",
    "plt.xlabel('Epoch')\n",
    "plt.ylabel('Loss')\n",
    "plt.title('Training Loss Over Epochs')\n",
    "plt.legend()\n",
    "\n",
    "plt.subplot(1, 2, 2)\n",
    "plt.plot(test_accuracies, label='Test Accuracy')\n",
    "plt.xlabel('Epoch')\n",
    "plt.ylabel('Accuracy (%)')\n",
    "plt.title('Test Accuracy Over Epochs')\n",
    "plt.legend()\n",
    "\n",
    "plt.show()"
   ]
  },
  {
   "cell_type": "code",
   "execution_count": null,
   "id": "eefd2669-39d3-49b9-9b11-ef7687f3480d",
   "metadata": {},
   "outputs": [],
   "source": []
  }
 ],
 "metadata": {
  "kernelspec": {
   "display_name": "Python 3 (ipykernel)",
   "language": "python",
   "name": "python3"
  },
  "language_info": {
   "codemirror_mode": {
    "name": "ipython",
    "version": 3
   },
   "file_extension": ".py",
   "mimetype": "text/x-python",
   "name": "python",
   "nbconvert_exporter": "python",
   "pygments_lexer": "ipython3",
   "version": "3.12.7"
  }
 },
 "nbformat": 4,
 "nbformat_minor": 5
}
