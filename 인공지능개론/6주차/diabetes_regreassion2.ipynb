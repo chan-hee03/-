{
 "cells": [
  {
   "cell_type": "code",
   "execution_count": 1,
   "id": "d9baa027-b779-40e2-92ec-a122ef68ccf2",
   "metadata": {},
   "outputs": [
    {
     "data": {
      "text/plain": [
       "<bound method NDFrame.head of      Pregnancies  Glucose  BloodPressure  SkinThickness  Insulin   BMI  \\\n",
       "0              6      148             72             35        0  33.6   \n",
       "1              1       85             66             29        0  26.6   \n",
       "2              8      183             64              0        0  23.3   \n",
       "3              1       89             66             23       94  28.1   \n",
       "4              0      137             40             35      168  43.1   \n",
       "..           ...      ...            ...            ...      ...   ...   \n",
       "763           10      101             76             48      180  32.9   \n",
       "764            2      122             70             27        0  36.8   \n",
       "765            5      121             72             23      112  26.2   \n",
       "766            1      126             60              0        0  30.1   \n",
       "767            1       93             70             31        0  30.4   \n",
       "\n",
       "     DiabetesPedigreeFunction  Age  Outcome  \n",
       "0                       0.627   50        1  \n",
       "1                       0.351   31        0  \n",
       "2                       0.672   32        1  \n",
       "3                       0.167   21        0  \n",
       "4                       2.288   33        1  \n",
       "..                        ...  ...      ...  \n",
       "763                     0.171   63        0  \n",
       "764                     0.340   27        0  \n",
       "765                     0.245   30        0  \n",
       "766                     0.349   47        1  \n",
       "767                     0.315   23        0  \n",
       "\n",
       "[768 rows x 9 columns]>"
      ]
     },
     "execution_count": 1,
     "metadata": {},
     "output_type": "execute_result"
    }
   ],
   "source": [
    "#데이터 불러기기\n",
    "import pandas as pd\n",
    "df = pd.read_csv(\"https://raw.githubusercontent.com/MyungKyuYi/AI-class/refs/heads/main/diabetes.csv\")\n",
    "df.head"
   ]
  },
  {
   "cell_type": "code",
   "execution_count": 2,
   "id": "935c43f5-238c-4086-a51e-9ffdde502765",
   "metadata": {},
   "outputs": [
    {
     "data": {
      "text/plain": [
       "Pregnancies                 0\n",
       "Glucose                     0\n",
       "BloodPressure               0\n",
       "SkinThickness               0\n",
       "Insulin                     0\n",
       "BMI                         0\n",
       "DiabetesPedigreeFunction    0\n",
       "Age                         0\n",
       "Outcome                     0\n",
       "dtype: int64"
      ]
     },
     "execution_count": 2,
     "metadata": {},
     "output_type": "execute_result"
    }
   ],
   "source": [
    "#결측치 확인\n",
    "df.isnull().sum()"
   ]
  },
  {
   "cell_type": "code",
   "execution_count": 3,
   "id": "ff296672-3dd0-45d6-b28b-0176ee430a78",
   "metadata": {},
   "outputs": [
    {
     "name": "stdout",
     "output_type": "stream",
     "text": [
      "(768, 7) (768,)\n"
     ]
    }
   ],
   "source": [
    "# 특성, 라벨 분류 및 to_array\n",
    "x=df.drop({\"Outcome\",\"BMI\"},axis=1).values\n",
    "y=df[\"BMI\"].values\n",
    "print(x.shape,y.shape)\n",
    "\n",
    "# 특성 스케일링\n",
    "import numpy as np\n",
    "from sklearn.preprocessing import StandardScaler\n",
    "scaler = StandardScaler()\n",
    "x = scaler.fit_transform(x)"
   ]
  },
  {
   "cell_type": "code",
   "execution_count": 4,
   "id": "36f34336-3ad6-4620-8b4e-7d6eaea9e0c5",
   "metadata": {},
   "outputs": [
    {
     "name": "stdout",
     "output_type": "stream",
     "text": [
      "(576, 7)\n",
      "(192, 7)\n",
      "(576,)\n",
      "(192,)\n"
     ]
    }
   ],
   "source": [
    "# train - test 분류\n",
    "from sklearn.model_selection import train_test_split\n",
    "x_train, x_test, y_train, y_test = train_test_split(x,y)\n",
    "print(x_train.shape)\n",
    "print(x_test.shape)\n",
    "print(y_train.shape)\n",
    "print(y_test.shape)"
   ]
  },
  {
   "cell_type": "code",
   "execution_count": 5,
   "id": "d45ae703-d520-42de-a188-791f9ecdbb69",
   "metadata": {},
   "outputs": [
    {
     "data": {
      "text/plain": [
       "(torch.Size([576, 7]),\n",
       " torch.Size([576, 1]),\n",
       " torch.Size([192, 7]),\n",
       " torch.Size([192, 1]))"
      ]
     },
     "execution_count": 5,
     "metadata": {},
     "output_type": "execute_result"
    }
   ],
   "source": [
    "# array -> tensor , train-test set 합치기\n",
    "import torch\n",
    "\n",
    "x_train=torch.tensor(x_train, dtype=torch.float32)\n",
    "x_test=torch.tensor(x_test, dtype=torch.float32)\n",
    "y_train=torch.tensor(y_train, dtype=torch.float32).unsqueeze(1)\n",
    "y_test=torch.tensor(y_test, dtype=torch.float32).unsqueeze(1)\n",
    "\n",
    "\n",
    "from torch.utils.data import Dataset, DataLoader, TensorDataset\n",
    "\n",
    "dataset_train = TensorDataset(x_train,y_train)\n",
    "dataloader_train = DataLoader(dataset_train, batch_size=32, shuffle=True)\n",
    "\n",
    "dataset_test = TensorDataset(x_test,y_test)\n",
    "dataloader_test = DataLoader(dataset_test, batch_size=32, shuffle=False)\n",
    "\n",
    "x_train.shape, y_train.shape, x_test.shape, y_test.shape"
   ]
  },
  {
   "cell_type": "code",
   "execution_count": 6,
   "id": "54708c66-d545-4499-8bfa-22fd4d06d079",
   "metadata": {},
   "outputs": [],
   "source": [
    "#모델 정의\n",
    "import torch.nn as nn\n",
    "import torch.optim as optim\n",
    "\n",
    "\n",
    "class DiabetesDense(nn.Module):\n",
    "    def __init__(self):\n",
    "        super(DiabetesDense, self).__init__()\n",
    "        self.model =nn.Sequential(\n",
    "            nn.Linear(7,64),\n",
    "            nn.ReLU(),\n",
    "            nn.Linear(64,32),\n",
    "            nn.ReLU(),\n",
    "            nn.Linear(32,1)\n",
    "        )\n",
    "    \n",
    "    def forward(self, x):\n",
    "        return self.model(x)\n",
    "\n",
    "\n",
    "model = DiabetesDense()"
   ]
  },
  {
   "cell_type": "code",
   "execution_count": 7,
   "id": "5166fb9b-1e73-4c45-a911-2f27950eddde",
   "metadata": {},
   "outputs": [],
   "source": [
    "criterion = nn.MSELoss()\n",
    "optimizer = optim.Adam(model.parameters(), lr=0.001)"
   ]
  },
  {
   "cell_type": "code",
   "execution_count": 8,
   "id": "15b158d9-b8d9-49f0-9e6a-7ebaa9b04fec",
   "metadata": {},
   "outputs": [
    {
     "name": "stdout",
     "output_type": "stream",
     "text": [
      "Epoch 1, Loss: 1067.8318\n",
      "Epoch 2, Loss: 1033.9454\n",
      "Epoch 3, Loss: 977.8544\n",
      "Epoch 4, Loss: 887.5317\n",
      "Epoch 5, Loss: 756.8975\n",
      "Epoch 6, Loss: 581.3204\n",
      "Epoch 7, Loss: 388.9096\n",
      "Epoch 8, Loss: 228.3548\n",
      "Epoch 9, Loss: 132.6192\n",
      "Epoch 10, Loss: 97.6990\n",
      "Epoch 11, Loss: 87.6561\n",
      "Epoch 12, Loss: 83.1092\n",
      "Epoch 13, Loss: 79.9613\n",
      "Epoch 14, Loss: 76.9886\n",
      "Epoch 15, Loss: 74.8684\n",
      "Epoch 16, Loss: 73.0692\n",
      "Epoch 17, Loss: 71.2746\n",
      "Epoch 18, Loss: 69.7459\n",
      "Epoch 19, Loss: 68.2692\n",
      "Epoch 20, Loss: 67.1579\n",
      "Epoch 21, Loss: 65.9178\n",
      "Epoch 22, Loss: 64.5893\n",
      "Epoch 23, Loss: 63.5664\n",
      "Epoch 24, Loss: 62.5248\n",
      "Epoch 25, Loss: 61.6728\n",
      "Epoch 26, Loss: 60.7332\n",
      "Epoch 27, Loss: 59.8625\n",
      "Epoch 28, Loss: 59.1132\n",
      "Epoch 29, Loss: 58.2949\n",
      "Epoch 30, Loss: 57.6113\n",
      "Epoch 31, Loss: 56.7855\n",
      "Epoch 32, Loss: 56.2166\n",
      "Epoch 33, Loss: 55.4907\n",
      "Epoch 34, Loss: 54.9631\n",
      "Epoch 35, Loss: 54.4473\n",
      "Epoch 36, Loss: 53.8212\n",
      "Epoch 37, Loss: 53.3175\n",
      "Epoch 38, Loss: 52.8822\n",
      "Epoch 39, Loss: 52.3724\n",
      "Epoch 40, Loss: 51.7995\n",
      "Epoch 41, Loss: 51.5341\n",
      "Epoch 42, Loss: 51.1611\n",
      "Epoch 43, Loss: 50.6770\n",
      "Epoch 44, Loss: 50.2953\n",
      "Epoch 45, Loss: 49.9042\n",
      "Epoch 46, Loss: 49.4946\n",
      "Epoch 47, Loss: 49.2273\n",
      "Epoch 48, Loss: 49.0220\n",
      "Epoch 49, Loss: 48.5848\n",
      "Epoch 50, Loss: 48.2283\n",
      "Training complete.\n"
     ]
    }
   ],
   "source": [
    "# loss 기록\n",
    "train_losses = []\n",
    "\n",
    "# 반복학습\n",
    "num_epochs = 50\n",
    "for epoch in range(num_epochs):\n",
    "    model.train()\n",
    "    running_loss = 0.0\n",
    "    for inputs, labels in dataloader_train:\n",
    "        \n",
    "        # 기울기 초기화\n",
    "        optimizer.zero_grad()\n",
    "\n",
    "        # loss 확인\n",
    "        outputs = model(inputs)\n",
    "        loss = criterion(outputs, labels)\n",
    "\n",
    "        # 역전파, 가중치 업데트\n",
    "        loss.backward()\n",
    "        optimizer.step()\n",
    "\n",
    "        running_loss += loss.item()\n",
    "    \n",
    "    # 평균 로스 기록\n",
    "    train_losses.append(running_loss / len(dataloader_train))\n",
    "    print(f\"Epoch {epoch + 1}, Loss: {train_losses[-1]:.4f}\")\n",
    "\n",
    "print(\"Training complete.\")"
   ]
  },
  {
   "cell_type": "code",
   "execution_count": 9,
   "id": "90739da0-11b7-4b53-a747-dcea9db1ddfc",
   "metadata": {},
   "outputs": [
    {
     "name": "stdout",
     "output_type": "stream",
     "text": [
      "Test MSE: 41.9515\n"
     ]
    }
   ],
   "source": [
    "# 모델 평가\n",
    "from sklearn.metrics import precision_score, recall_score, f1_score, roc_auc_score, confusion_matrix, ConfusionMatrixDisplay\n",
    "from sklearn.metrics import mean_squared_error\n",
    "\n",
    "# 실제 라벨, 예측값 기록\n",
    "model.eval()\n",
    "all_labels = []\n",
    "all_predictions = []\n",
    "\n",
    "with torch.no_grad():\n",
    "    for inputs, labels in dataloader_test:\n",
    "        outputs = model(inputs).cpu().numpy()\n",
    "        all_predictions.extend(outputs)\n",
    "        all_labels.extend(labels.numpy())\n",
    "\n",
    "mse = mean_squared_error(all_labels, all_predictions)\n",
    "print(f\"Test MSE: {mse:.4f}\")"
   ]
  },
  {
   "cell_type": "code",
   "execution_count": 10,
   "id": "115b2f24-d0fc-47d1-9587-e98242be06ff",
   "metadata": {},
   "outputs": [
    {
     "data": {
      "image/png": "[encoded data removed]",
      "text/plain": [
       "<Figure size 1200x500 with 1 Axes>"
      ]
     },
     "metadata": {},
     "output_type": "display_data"
    }
   ],
   "source": [
    "# loss 변화 시각화\n",
    "import matplotlib.pyplot as plt\n",
    "\n",
    "plt.figure(figsize=(12, 5))\n",
    "\n",
    "plt.subplot(1, 2, 1)\n",
    "plt.plot(train_losses, label='Training Loss')\n",
    "plt.xlabel('Epoch')\n",
    "plt.ylabel('Loss')\n",
    "plt.title('Training Loss Over Epochs')\n",
    "plt.legend()\n",
    "\n",
    "plt.show()"
   ]
  },
  {
   "cell_type": "code",
   "execution_count": null,
   "id": "85d5298f-378f-47e7-9a0f-4a54f12e4499",
   "metadata": {},
   "outputs": [],
   "source": []
  }
 ],
 "metadata": {
  "kernelspec": {
   "display_name": "Python 3 (ipykernel)",
   "language": "python",
   "name": "python3"
  },
  "language_info": {
   "codemirror_mode": {
    "name": "ipython",
    "version": 3
   },
   "file_extension": ".py",
   "mimetype": "text/x-python",
   "name": "python",
   "nbconvert_exporter": "python",
   "pygments_lexer": "ipython3",
   "version": "3.12.7"
  }
 },
 "nbformat": 4,
 "nbformat_minor": 5
}
