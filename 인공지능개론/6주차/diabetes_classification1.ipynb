{
 "cells": [
  {
   "cell_type": "code",
   "execution_count": 1,
   "id": "d9baa027-b779-40e2-92ec-a122ef68ccf2",
   "metadata": {},
   "outputs": [
    {
     "data": {
      "text/plain": [
       "<bound method NDFrame.head of      Pregnancies  Glucose  BloodPressure  SkinThickness  Insulin   BMI  \\\n",
       "0              6      148             72             35        0  33.6   \n",
       "1              1       85             66             29        0  26.6   \n",
       "2              8      183             64              0        0  23.3   \n",
       "3              1       89             66             23       94  28.1   \n",
       "4              0      137             40             35      168  43.1   \n",
       "..           ...      ...            ...            ...      ...   ...   \n",
       "763           10      101             76             48      180  32.9   \n",
       "764            2      122             70             27        0  36.8   \n",
       "765            5      121             72             23      112  26.2   \n",
       "766            1      126             60              0        0  30.1   \n",
       "767            1       93             70             31        0  30.4   \n",
       "\n",
       "     DiabetesPedigreeFunction  Age  Outcome  \n",
       "0                       0.627   50        1  \n",
       "1                       0.351   31        0  \n",
       "2                       0.672   32        1  \n",
       "3                       0.167   21        0  \n",
       "4                       2.288   33        1  \n",
       "..                        ...  ...      ...  \n",
       "763                     0.171   63        0  \n",
       "764                     0.340   27        0  \n",
       "765                     0.245   30        0  \n",
       "766                     0.349   47        1  \n",
       "767                     0.315   23        0  \n",
       "\n",
       "[768 rows x 9 columns]>"
      ]
     },
     "execution_count": 1,
     "metadata": {},
     "output_type": "execute_result"
    }
   ],
   "source": [
    "#데이터 불러기기\n",
    "import pandas as pd\n",
    "df = pd.read_csv(\"https://raw.githubusercontent.com/MyungKyuYi/AI-class/refs/heads/main/diabetes.csv\")\n",
    "df.head"
   ]
  },
  {
   "cell_type": "code",
   "execution_count": 2,
   "id": "935c43f5-238c-4086-a51e-9ffdde502765",
   "metadata": {},
   "outputs": [
    {
     "data": {
      "text/plain": [
       "Pregnancies                 0\n",
       "Glucose                     0\n",
       "BloodPressure               0\n",
       "SkinThickness               0\n",
       "Insulin                     0\n",
       "BMI                         0\n",
       "DiabetesPedigreeFunction    0\n",
       "Age                         0\n",
       "Outcome                     0\n",
       "dtype: int64"
      ]
     },
     "execution_count": 2,
     "metadata": {},
     "output_type": "execute_result"
    }
   ],
   "source": [
    "#결측치 확인\n",
    "df.isnull().sum()"
   ]
  },
  {
   "cell_type": "code",
   "execution_count": 3,
   "id": "152857cb-2310-444f-906d-c43452dbe18c",
   "metadata": {},
   "outputs": [
    {
     "data": {
      "text/plain": [
       "<Axes: ylabel='count'>"
      ]
     },
     "execution_count": 3,
     "metadata": {},
     "output_type": "execute_result"
    },
    {
     "data": {
      "image/png": "[encoded data removed]",
      "text/plain": [
       "<Figure size 400x400 with 1 Axes>"
      ]
     },
     "metadata": {},
     "output_type": "display_data"
    }
   ],
   "source": [
    "#라벨 확인\n",
    "import matplotlib.pyplot as plt\n",
    "import numpy as np\n",
    "plt.rcParams[\"figure.figsize\"] = (4,4)\n",
    "df.Outcome.value_counts().plot(kind='pie', autopct='%0.05f%%')"
   ]
  },
  {
   "cell_type": "code",
   "execution_count": 4,
   "id": "ff296672-3dd0-45d6-b28b-0176ee430a78",
   "metadata": {},
   "outputs": [
    {
     "name": "stdout",
     "output_type": "stream",
     "text": [
      "(768, 8) (768,)\n"
     ]
    }
   ],
   "source": [
    "# 특성, 라벨 분류 및 to_array\n",
    "x=df.drop(\"Outcome\",axis=1).values\n",
    "y=df[\"Outcome\"].values\n",
    "print(x.shape,y.shape)\n",
    "\n",
    "# 특성 스케일링\n",
    "from sklearn.preprocessing import StandardScaler\n",
    "scaler = StandardScaler()\n",
    "x = scaler.fit_transform(x)"
   ]
  },
  {
   "cell_type": "code",
   "execution_count": 5,
   "id": "36f34336-3ad6-4620-8b4e-7d6eaea9e0c5",
   "metadata": {},
   "outputs": [
    {
     "name": "stdout",
     "output_type": "stream",
     "text": [
      "(576, 8)\n",
      "(192, 8)\n",
      "(576,)\n",
      "(192,)\n"
     ]
    }
   ],
   "source": [
    "# train - test 분류\n",
    "from sklearn.model_selection import train_test_split\n",
    "x_train, x_test, y_train, y_test = train_test_split(x,y)\n",
    "print(x_train.shape)\n",
    "print(x_test.shape)\n",
    "print(y_train.shape)\n",
    "print(y_test.shape)"
   ]
  },
  {
   "cell_type": "code",
   "execution_count": 6,
   "id": "d45ae703-d520-42de-a188-791f9ecdbb69",
   "metadata": {},
   "outputs": [
    {
     "data": {
      "text/plain": [
       "(torch.Size([576, 8]),\n",
       " torch.Size([576, 1]),\n",
       " torch.Size([192, 8]),\n",
       " torch.Size([192, 1]))"
      ]
     },
     "execution_count": 6,
     "metadata": {},
     "output_type": "execute_result"
    }
   ],
   "source": [
    "# array -> tensor , train-test set 합치기\n",
    "import torch\n",
    "\n",
    "x_train=torch.tensor(x_train, dtype=torch.float32)\n",
    "x_test=torch.tensor(x_test, dtype=torch.float32)\n",
    "y_train=torch.tensor(y_train, dtype=torch.float32).unsqueeze(1)\n",
    "y_test=torch.tensor(y_test, dtype=torch.float32).unsqueeze(1)\n",
    "\n",
    "\n",
    "from torch.utils.data import Dataset, DataLoader, TensorDataset\n",
    "\n",
    "dataset_train = TensorDataset(x_train,y_train)\n",
    "dataloader_train = DataLoader(dataset_train, batch_size=32, shuffle=True)\n",
    "\n",
    "dataset_test = TensorDataset(x_test,y_test)\n",
    "dataloader_test = DataLoader(dataset_test, batch_size=32, shuffle=False)\n",
    "\n",
    "x_train.shape, y_train.shape, x_test.shape, y_test.shape"
   ]
  },
  {
   "cell_type": "code",
   "execution_count": 7,
   "id": "54708c66-d545-4499-8bfa-22fd4d06d079",
   "metadata": {},
   "outputs": [],
   "source": [
    "#모델 정의\n",
    "import torch.nn as nn\n",
    "import torch.optim as optim\n",
    "\n",
    "\n",
    "class DiabetesDense(nn.Module):\n",
    "    def __init__(self):\n",
    "        super(DiabetesDense, self).__init__()\n",
    "        self.fc1 = nn.Linear(8, 64)\n",
    "        self.fc2 = nn.Linear(64, 32)\n",
    "        self.fc3 = nn.Linear(32, 1)\n",
    "    \n",
    "    def forward(self, x):\n",
    "        x = torch.relu(self.fc1(x))\n",
    "        x = torch.relu(self.fc2(x))\n",
    "        x = self.fc3(x)\n",
    "        return x\n",
    "\n",
    "model = DiabetesDense()"
   ]
  },
  {
   "cell_type": "code",
   "execution_count": 8,
   "id": "5166fb9b-1e73-4c45-a911-2f27950eddde",
   "metadata": {},
   "outputs": [],
   "source": [
    "criterion = nn.BCEWithLogitsLoss()\n",
    "optimizer = optim.Adam(model.parameters(), lr=0.001)"
   ]
  },
  {
   "cell_type": "code",
   "execution_count": 9,
   "id": "15b158d9-b8d9-49f0-9e6a-7ebaa9b04fec",
   "metadata": {},
   "outputs": [
    {
     "name": "stdout",
     "output_type": "stream",
     "text": [
      "Epoch 1/25, Loss: 0.6540, Accuracy: 63.54%\n",
      "Epoch 2/25, Loss: 0.6072, Accuracy: 70.31%\n",
      "Epoch 3/25, Loss: 0.5577, Accuracy: 71.88%\n",
      "Epoch 4/25, Loss: 0.5132, Accuracy: 75.52%\n",
      "Epoch 5/25, Loss: 0.4888, Accuracy: 74.48%\n",
      "Epoch 6/25, Loss: 0.4759, Accuracy: 76.56%\n",
      "Epoch 7/25, Loss: 0.4710, Accuracy: 76.56%\n",
      "Epoch 8/25, Loss: 0.4672, Accuracy: 76.56%\n",
      "Epoch 9/25, Loss: 0.4629, Accuracy: 76.56%\n",
      "Epoch 10/25, Loss: 0.4595, Accuracy: 78.12%\n",
      "Epoch 11/25, Loss: 0.4582, Accuracy: 76.56%\n",
      "Epoch 12/25, Loss: 0.4539, Accuracy: 77.60%\n",
      "Epoch 13/25, Loss: 0.4513, Accuracy: 77.08%\n",
      "Epoch 14/25, Loss: 0.4494, Accuracy: 77.60%\n",
      "Epoch 15/25, Loss: 0.4467, Accuracy: 78.12%\n",
      "Epoch 16/25, Loss: 0.4466, Accuracy: 78.12%\n",
      "Epoch 17/25, Loss: 0.4415, Accuracy: 78.65%\n",
      "Epoch 18/25, Loss: 0.4389, Accuracy: 79.17%\n",
      "Epoch 19/25, Loss: 0.4368, Accuracy: 78.65%\n",
      "Epoch 20/25, Loss: 0.4341, Accuracy: 78.65%\n",
      "Epoch 21/25, Loss: 0.4310, Accuracy: 77.60%\n",
      "Epoch 22/25, Loss: 0.4301, Accuracy: 77.08%\n",
      "Epoch 23/25, Loss: 0.4279, Accuracy: 77.08%\n",
      "Epoch 24/25, Loss: 0.4255, Accuracy: 77.60%\n",
      "Epoch 25/25, Loss: 0.4227, Accuracy: 77.60%\n",
      "Training complete.\n"
     ]
    }
   ],
   "source": [
    "# loss, accuracy 기록\n",
    "train_losses = []\n",
    "test_accuracies = []\n",
    "\n",
    "# 반복학습\n",
    "num_epochs = 25\n",
    "for epoch in range(num_epochs):\n",
    "    model.train()\n",
    "    running_loss = 0.0\n",
    "    for inputs, labels in dataloader_train:\n",
    "        # 기울기 초기화\n",
    "        optimizer.zero_grad()\n",
    "\n",
    "        # loss 확인\n",
    "        outputs = model(inputs)\n",
    "        loss = criterion(outputs, labels)\n",
    "\n",
    "        # 역전파, 가중치 업데트\n",
    "        loss.backward()\n",
    "        optimizer.step()\n",
    "\n",
    "        running_loss += loss.item()\n",
    "    \n",
    "    # 평균 로스 기록\n",
    "    train_losses.append(running_loss / len(dataloader_train))\n",
    "\n",
    "    # 평가상태 변\n",
    "    model.eval()\n",
    "    correct = 0\n",
    "    total = 0\n",
    "    with torch.no_grad():\n",
    "        for inputs, labels in dataloader_test:\n",
    "            outputs = model(inputs)\n",
    "            predicted = (torch.sigmoid(outputs) >= 0.5).float()\n",
    "\n",
    "            total += labels.size(0)\n",
    "            correct += (predicted == labels).sum().item()\n",
    "\n",
    "    accuracy = 100 * correct / total\n",
    "    test_accuracies.append(accuracy)\n",
    "\n",
    "    print(f\"Epoch {epoch + 1}/{num_epochs}, Loss: {train_losses[-1]:.4f}, Accuracy: {accuracy:.2f}%\")\n",
    "\n",
    "print(\"Training complete.\")"
   ]
  },
  {
   "cell_type": "code",
   "execution_count": 10,
   "id": "90739da0-11b7-4b53-a747-dcea9db1ddfc",
   "metadata": {},
   "outputs": [
    {
     "name": "stdout",
     "output_type": "stream",
     "text": [
      "Confusion Matrix:\n",
      "[[122   0]\n",
      " [ 70   0]]\n",
      "F1 Score: 0.49\n",
      "Precision: 0.40\n",
      "Recall: 0.64\n",
      "Specificity: 0.50\n"
     ]
    },
    {
     "name": "stderr",
     "output_type": "stream",
     "text": [
      "C:\\anaconda3\\Lib\\site-packages\\sklearn\\metrics\\_classification.py:1531: UndefinedMetricWarning: Precision is ill-defined and being set to 0.0 in labels with no predicted samples. Use `zero_division` parameter to control this behavior.\n",
      "  _warn_prf(average, modifier, f\"{metric.capitalize()} is\", len(result))\n"
     ]
    }
   ],
   "source": [
    "# 모델 평가\n",
    "from sklearn.metrics import precision_score, recall_score, f1_score, roc_auc_score, confusion_matrix, ConfusionMatrixDisplay\n",
    "\n",
    "\n",
    "# 실제 라벨, 예측값 기록\n",
    "all_labels = []\n",
    "all_predictions = []\n",
    "\n",
    "model.eval()\n",
    "\n",
    "with torch.no_grad():\n",
    "    for inputs, labels in dataloader_test:\n",
    "        outputs = model(inputs)\n",
    "        _, predicted = torch.max(outputs.data, 1) # 가장 확률 높은 열번호 \n",
    "        all_labels.extend(labels.cpu().numpy())\n",
    "        all_predictions.extend(predicted.cpu().numpy())\n",
    "\n",
    "# list->numpy\n",
    "all_labels = np.array(all_labels)\n",
    "all_predictions = np.array(all_predictions)\n",
    "\n",
    "#matrix, f1, precision, recall 확인\n",
    "conf_matrix = confusion_matrix(all_labels, all_predictions)\n",
    "f1 = f1_score(all_labels, all_predictions, average='weighted')\n",
    "precision = precision_score(all_labels, all_predictions, average='weighted')\n",
    "recall = recall_score(all_labels, all_predictions, average='weighted')\n",
    "\n",
    "# 각 specificity 확인\n",
    "specificity = []\n",
    "for i in range(conf_matrix.shape[0]):\n",
    "    tn = conf_matrix.sum() - (conf_matrix[i, :].sum() + conf_matrix[:, i].sum() - conf_matrix[i, i])\n",
    "    fp = conf_matrix[:, i].sum() - conf_matrix[i, i]  # False Positive\n",
    "    specificity.append(tn / (tn + fp))  # Specificity = TN / (TN + FP)\n",
    "\n",
    "print(f'Confusion Matrix:\\n{conf_matrix}')\n",
    "print(f'F1 Score: {f1:.2f}')\n",
    "print(f'Precision: {precision:.2f}')\n",
    "print(f'Recall: {recall:.2f}')\n",
    "print(f'Specificity: {np.mean(specificity):.2f}')"
   ]
  },
  {
   "cell_type": "code",
   "execution_count": 11,
   "id": "115b2f24-d0fc-47d1-9587-e98242be06ff",
   "metadata": {},
   "outputs": [
    {
     "data": {
      "image/png": "[encoded data removed]",
      "text/plain": [
       "<Figure size 1200x500 with 2 Axes>"
      ]
     },
     "metadata": {},
     "output_type": "display_data"
    }
   ],
   "source": [
    "# loss와 accuracy 변화 확인\n",
    "\n",
    "\n",
    "plt.figure(figsize=(12, 5))\n",
    "\n",
    "plt.subplot(1, 2, 1)\n",
    "plt.plot(train_losses, label='Training Loss')\n",
    "plt.xlabel('Epoch')\n",
    "plt.ylabel('Loss')\n",
    "plt.title('Training Loss Over Epochs')\n",
    "plt.legend()\n",
    "\n",
    "plt.subplot(1, 2, 2)\n",
    "plt.plot(test_accuracies, label='Test Accuracy')\n",
    "plt.xlabel('Epoch')\n",
    "plt.ylabel('Accuracy (%)')\n",
    "plt.title('Test Accuracy Over Epochs')\n",
    "plt.legend()\n",
    "\n",
    "plt.show()"
   ]
  },
  {
   "cell_type": "code",
   "execution_count": null,
   "id": "85d5298f-378f-47e7-9a0f-4a54f12e4499",
   "metadata": {},
   "outputs": [],
   "source": []
  }
 ],
 "metadata": {
  "kernelspec": {
   "display_name": "Python 3 (ipykernel)",
   "language": "python",
   "name": "python3"
  },
  "language_info": {
   "codemirror_mode": {
    "name": "ipython",
    "version": 3
   },
   "file_extension": ".py",
   "mimetype": "text/x-python",
   "name": "python",
   "nbconvert_exporter": "python",
   "pygments_lexer": "ipython3",
   "version": "3.12.7"
  }
 },
 "nbformat": 4,
 "nbformat_minor": 5
}
