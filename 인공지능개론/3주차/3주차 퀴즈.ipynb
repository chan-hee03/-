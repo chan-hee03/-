{
 "cells": [
  {
   "cell_type": "code",
   "execution_count": 26,
   "id": "2c3d9e6c-315a-46f7-b264-38543b5c2d96",
   "metadata": {},
   "outputs": [
    {
     "name": "stdout",
     "output_type": "stream",
     "text": [
      "       0      1  2  3      4     5      6\n",
      "0  vhigh  vhigh  2  2  small   low  unacc\n",
      "1  vhigh  vhigh  2  2  small   med  unacc\n",
      "2  vhigh  vhigh  2  2  small  high  unacc\n",
      "3  vhigh  vhigh  2  2    med   low  unacc\n",
      "4  vhigh  vhigh  2  2    med   med  unacc\n",
      "0    0\n",
      "1    0\n",
      "2    0\n",
      "3    0\n",
      "4    0\n",
      "5    0\n",
      "6    0\n",
      "dtype: int64\n"
     ]
    }
   ],
   "source": [
    "#데이터 부르기\n",
    "import pandas as pd\n",
    "\n",
    "df=pd.read_csv(r\"C:\\Users\\김찬희\\인공지능개론\\3주차\\car_evaluation.csv\", header=None)\n",
    "print(df.head())\n",
    "\n",
    "print(df.isnull().sum())"
   ]
  },
  {
   "cell_type": "code",
   "execution_count": 27,
   "id": "8f7259cf-55bc-4268-903c-c5e8710f751d",
   "metadata": {},
   "outputs": [
    {
     "name": "stdout",
     "output_type": "stream",
     "text": [
      "      0  1  2  3  4  5  6\n",
      "0     3  3  0  0  2  1  2\n",
      "1     3  3  0  0  2  2  2\n",
      "2     3  3  0  0  2  0  2\n",
      "3     3  3  0  0  1  1  2\n",
      "4     3  3  0  0  1  2  2\n",
      "...  .. .. .. .. .. .. ..\n",
      "1723  1  1  3  2  1  2  1\n",
      "1724  1  1  3  2  1  0  3\n",
      "1725  1  1  3  2  0  1  2\n",
      "1726  1  1  3  2  0  2  1\n",
      "1727  1  1  3  2  0  0  3\n",
      "\n",
      "[1728 rows x 7 columns]\n"
     ]
    }
   ],
   "source": [
    "#인코딩\n",
    "from sklearn.preprocessing import LabelEncoder\n",
    "label_encoder = LabelEncoder()\n",
    "for column in range(7):\n",
    "    df[column] = label_encoder.fit_transform(df[column])\n",
    "\n",
    "print(df)"
   ]
  },
  {
   "cell_type": "code",
   "execution_count": 29,
   "id": "fa80f5f6-2e22-4983-910d-3228533734ef",
   "metadata": {},
   "outputs": [
    {
     "name": "stdout",
     "output_type": "stream",
     "text": [
      "6\n",
      "2    1210\n",
      "0     384\n",
      "1      69\n",
      "3      65\n",
      "Name: count, dtype: int64\n"
     ]
    }
   ],
   "source": [
    "#라벨과 특성 분류\n",
    "x=df.drop(6,axis=1)\n",
    "y=df[6]\n",
    "print(y.value_counts())"
   ]
  },
  {
   "cell_type": "code",
   "execution_count": 30,
   "id": "41d8231b-962a-478e-8af0-54c5781027d8",
   "metadata": {},
   "outputs": [
    {
     "name": "stdout",
     "output_type": "stream",
     "text": [
      "RF 정확도 : 0.9791666666666666\n",
      "DT 정확도 : 0.9837962962962963\n",
      "LR 정확도 : 0.9791666666666666\n",
      "SVM 정확도 : 0.9814814814814815\n",
      "Kn 정확도 : 0.9050925925925926\n",
      "RF Confusion Matrix :\n",
      "[[ 83   1   1   1]\n",
      " [  5  14   0   0]\n",
      " [  1   0 304   0]\n",
      " [  0   0   0  22]]\n",
      "DT Confusion Matrix :\n",
      "[[ 84   0   1   1]\n",
      " [  3  16   0   0]\n",
      " [  0   1 304   0]\n",
      " [  0   1   0  21]]\n",
      "LR Confusion Matrix :\n",
      "[[ 83   1   1   1]\n",
      " [  6  13   0   0]\n",
      " [  0   0 305   0]\n",
      " [  0   0   0  22]]\n",
      "SVM Confusion Matrix :\n",
      "[[ 84   0   1   1]\n",
      " [  6  13   0   0]\n",
      " [  0   0 305   0]\n",
      " [  0   0   0  22]]\n",
      "Kn Confusion Matrix :\n",
      "[[ 72   0  14   0]\n",
      " [  9   7   3   0]\n",
      " [  3   1 301   0]\n",
      " [  7   1   3  11]]\n"
     ]
    }
   ],
   "source": [
    "from sklearn.model_selection import train_test_split\n",
    "x_train,x_test,y_train,y_test = train_test_split(x,y)\n",
    "\n",
    "# 모델 import\n",
    "from sklearn.ensemble import RandomForestClassifier\n",
    "from sklearn.tree import DecisionTreeClassifier\n",
    "from sklearn.linear_model import LogisticRegression\n",
    "from sklearn.neighbors import KNeighborsClassifier\n",
    "from sklearn.svm import SVC\n",
    "\n",
    "# 학습\n",
    "RF=RandomForestClassifier()\n",
    "RF.fit(x_train,y_train)\n",
    "DT=DecisionTreeClassifier()\n",
    "DT.fit(x_train,y_train)\n",
    "LR=RandomForestClassifier()\n",
    "LR.fit(x_train,y_train)\n",
    "SVM=RandomForestClassifier()\n",
    "SVM.fit(x_train,y_train)\n",
    "Kn=KNeighborsClassifier()\n",
    "Kn.fit(x_train,y_train)\n",
    "\n",
    "# 예측\n",
    "RF_pred=RF.predict(x_test)\n",
    "DT_pred=DT.predict(x_test)\n",
    "LR_pred=LR.predict(x_test)\n",
    "SVM_pred=SVM.predict(x_test)\n",
    "Kn_pred=Kn.predict(x_test)\n",
    "\n",
    "\n",
    "\n",
    "# accuracy 확인\n",
    "from sklearn.metrics import accuracy_score\n",
    "print(f\"RF 정확도 : {accuracy_score(y_test, RF_pred)}\")\n",
    "print(f\"DT 정확도 : {accuracy_score(y_test, DT_pred)}\")\n",
    "print(f\"LR 정확도 : {accuracy_score(y_test, LR_pred)}\")\n",
    "print(f\"SVM 정확도 : {accuracy_score(y_test, SVM_pred)}\")\n",
    "print(f\"Kn 정확도 : {accuracy_score(y_test, Kn_pred)}\")\n",
    "\n",
    "\n",
    "# confusion matrix 확인\n",
    "from sklearn.metrics import confusion_matrix\n",
    "print(f\"RF Confusion Matrix :\\n{confusion_matrix(y_test,RF_pred)}\")\n",
    "print(f\"DT Confusion Matrix :\\n{confusion_matrix(y_test,DT_pred)}\")\n",
    "print(f\"LR Confusion Matrix :\\n{confusion_matrix(y_test,LR_pred)}\")\n",
    "print(f\"SVM Confusion Matrix :\\n{confusion_matrix(y_test,SVM_pred)}\")\n",
    "print(f\"Kn Confusion Matrix :\\n{confusion_matrix(y_test,Kn_pred)}\")"
   ]
  },
  {
   "cell_type": "code",
   "execution_count": null,
   "id": "8952b268-2f0c-4ecd-ad10-6e09bd9e679e",
   "metadata": {},
   "outputs": [],
   "source": []
  }
 ],
 "metadata": {
  "kernelspec": {
   "display_name": "Python 3 (ipykernel)",
   "language": "python",
   "name": "python3"
  },
  "language_info": {
   "codemirror_mode": {
    "name": "ipython",
    "version": 3
   },
   "file_extension": ".py",
   "mimetype": "text/x-python",
   "name": "python",
   "nbconvert_exporter": "python",
   "pygments_lexer": "ipython3",
   "version": "3.12.7"
  }
 },
 "nbformat": 4,
 "nbformat_minor": 5
}
